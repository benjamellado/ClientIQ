{
 "cells": [
  {
   "cell_type": "markdown",
   "metadata": {},
   "source": [
    "### SQL Agent"
   ]
  },
  {
   "cell_type": "code",
   "execution_count": 1,
   "metadata": {},
   "outputs": [],
   "source": [
    "from langchain_community.utilities import SQLDatabase\n",
    "from langchain.chains import create_sql_query_chain\n",
    "from langchain_openai import ChatOpenAI"
   ]
  },
  {
   "cell_type": "code",
   "execution_count": 2,
   "metadata": {},
   "outputs": [],
   "source": [
    "from langchain_community.agent_toolkits import create_sql_agent\n",
    "\n",
    "db = SQLDatabase.from_uri(\"sqlite:///../db/products.db\")\n",
    "llm = ChatOpenAI(model=\"gpt-4-0125-preview\", temperature=0)\n",
    "\n",
    "agent_executor = create_sql_agent(llm, db=db, agent_type=\"openai-tools\", verbose=True)"
   ]
  },
  {
   "cell_type": "code",
   "execution_count": 3,
   "metadata": {},
   "outputs": [
    {
     "name": "stdout",
     "output_type": "stream",
     "text": [
      "\n",
      "\n",
      "\u001b[1m> Entering new SQL Agent Executor chain...\u001b[0m\n",
      "\u001b[32;1m\u001b[1;3m\n",
      "Invoking: `sql_db_list_tables` with ``\n",
      "\n",
      "\n",
      "\u001b[0m\u001b[38;5;200m\u001b[1;3mProduct, ProductApplication, ProductBenefit\u001b[0m\u001b[32;1m\u001b[1;3m\n",
      "Invoking: `sql_db_query` with `SELECT COUNT(*) AS NumberOfProducts FROM Product`\n",
      "\n",
      "\n",
      "\u001b[0m\u001b[36;1m\u001b[1;3m[(3,)]\u001b[0m\u001b[32;1m\u001b[1;3mThere are 3 products in the database.\u001b[0m\n",
      "\n",
      "\u001b[1m> Finished chain.\u001b[0m\n"
     ]
    }
   ],
   "source": [
    "prompt = \"How many products do you have?\"\n",
    "\n",
    "result = agent_executor.invoke({\"input\": prompt})"
   ]
  },
  {
   "cell_type": "code",
   "execution_count": 4,
   "metadata": {},
   "outputs": [
    {
     "name": "stdout",
     "output_type": "stream",
     "text": [
      "\n",
      "\n",
      "\u001b[1m> Entering new SQL Agent Executor chain...\u001b[0m\n",
      "\u001b[32;1m\u001b[1;3m\n",
      "Invoking: `sql_db_list_tables` with ``\n",
      "\n",
      "\n",
      "\u001b[0m\u001b[38;5;200m\u001b[1;3mProduct, ProductApplication, ProductBenefit\u001b[0m\u001b[32;1m\u001b[1;3m\n",
      "Invoking: `sql_db_schema` with `{'table_names': 'Product'}`\n",
      "\n",
      "\n",
      "\u001b[0m\u001b[33;1m\u001b[1;3m\n",
      "CREATE TABLE \"Product\" (\n",
      "\tname TEXT NOT NULL, \n",
      "\tdescription TEXT, \n",
      "\ttemperature INTEGER, \n",
      "\twatts_min INTEGER, \n",
      "\twatts_max INTEGER, \n",
      "\tdimension_diameter REAL, \n",
      "\tdimension_length REAL, \n",
      "\tdimension_weight REAL, \n",
      "\tpackaging_length INTEGER, \n",
      "\tpackaging_width INTEGER, \n",
      "\tpackaging_height INTEGER, \n",
      "\tpackaging_weight REAL, \n",
      "\tPRIMARY KEY (name)\n",
      ")\n",
      "\n",
      "/*\n",
      "3 rows from Product table:\n",
      "name\tdescription\ttemperature\twatts_min\twatts_max\tdimension_diameter\tdimension_length\tdimension_weight\tpackaging_length\tpackaging_width\tpackaging_height\tpackaging_weight\n",
      "XBO 1000 W/HS OFR\tXBO for cinema projection | Xenon short-arc lamps 450…10,000 W\t6000\t450\t10000\t40.0\t235.0\t255.0\t410\t184\t180\t819.0\n",
      "XBO DHP for digital cinema projection\tXenon short-arc lamps with high luminance for brighter screen illumination, constant 6000 K color te\t230\t1200\t7000\t78.0\t436.0\t1000.0\t170\t436\t393\t1023.0\n",
      "XBO HPN for digital cinema projection\tXenon short-arc lamps with high luminance for brighter screen illumination, reliable performance wit\t230\t1200\t7000\t78.0\t428.0\t1050.0\t2\t2\t2\t1050.0\n",
      "*/\u001b[0m\u001b[32;1m\u001b[1;3m\n",
      "Invoking: `sql_db_query` with `SELECT MIN(packaging_length) AS min_length, MAX(packaging_length) AS max_length, MIN(packaging_width) AS min_width, MAX(packaging_width) AS max_width, MIN(packaging_height) AS min_height, MAX(packaging_height) AS max_height, MIN(packaging_weight) AS min_weight, MAX(packaging_weight) AS max_weight FROM Product`\n",
      "\n",
      "\n",
      "\u001b[0m\u001b[36;1m\u001b[1;3m[(2, 410, 2, 436, 2, 393, 819.0, 1050.0)]\u001b[0m\u001b[32;1m\u001b[1;3mTo find a packaging size that works for all products, you would need a package with the following dimensions and weight:\n",
      "\n",
      "- Length: At least 410 units\n",
      "- Width: At least 436 units\n",
      "- Height: At least 393 units\n",
      "- Weight: Capable of handling up to 1050.0 units\n",
      "\n",
      "These dimensions and weight ensure that the package can accommodate the largest product in each dimension and weight category.\u001b[0m\n",
      "\n",
      "\u001b[1m> Finished chain.\u001b[0m\n"
     ]
    }
   ],
   "source": [
    "prompt = \"I need to find a packaging size that works for all products. What size would that package have?\"\n",
    "\n",
    "result = agent_executor.invoke({\"input\": prompt})"
   ]
  },
  {
   "cell_type": "code",
   "execution_count": 5,
   "metadata": {},
   "outputs": [
    {
     "name": "stdout",
     "output_type": "stream",
     "text": [
      "\n",
      "\n",
      "\u001b[1m> Entering new SQL Agent Executor chain...\u001b[0m\n",
      "\u001b[32;1m\u001b[1;3m\n",
      "Invoking: `sql_db_list_tables` with ``\n",
      "\n",
      "\n",
      "\u001b[0m\u001b[38;5;200m\u001b[1;3mProduct, ProductApplication, ProductBenefit\u001b[0m\u001b[32;1m\u001b[1;3m\n",
      "Invoking: `sql_db_schema` with `{'table_names': 'Product,ProductApplication'}`\n",
      "\n",
      "\n",
      "\u001b[0m\u001b[33;1m\u001b[1;3m\n",
      "CREATE TABLE \"Product\" (\n",
      "\tname TEXT NOT NULL, \n",
      "\tdescription TEXT, \n",
      "\ttemperature INTEGER, \n",
      "\twatts_min INTEGER, \n",
      "\twatts_max INTEGER, \n",
      "\tdimension_diameter REAL, \n",
      "\tdimension_length REAL, \n",
      "\tdimension_weight REAL, \n",
      "\tpackaging_length INTEGER, \n",
      "\tpackaging_width INTEGER, \n",
      "\tpackaging_height INTEGER, \n",
      "\tpackaging_weight REAL, \n",
      "\tPRIMARY KEY (name)\n",
      ")\n",
      "\n",
      "/*\n",
      "3 rows from Product table:\n",
      "name\tdescription\ttemperature\twatts_min\twatts_max\tdimension_diameter\tdimension_length\tdimension_weight\tpackaging_length\tpackaging_width\tpackaging_height\tpackaging_weight\n",
      "XBO 1000 W/HS OFR\tXBO for cinema projection | Xenon short-arc lamps 450…10,000 W\t6000\t450\t10000\t40.0\t235.0\t255.0\t410\t184\t180\t819.0\n",
      "XBO DHP for digital cinema projection\tXenon short-arc lamps with high luminance for brighter screen illumination, constant 6000 K color te\t230\t1200\t7000\t78.0\t436.0\t1000.0\t170\t436\t393\t1023.0\n",
      "XBO HPN for digital cinema projection\tXenon short-arc lamps with high luminance for brighter screen illumination, reliable performance wit\t230\t1200\t7000\t78.0\t428.0\t1050.0\t2\t2\t2\t1050.0\n",
      "*/\n",
      "\n",
      "\n",
      "CREATE TABLE \"ProductApplication\" (\n",
      "\tid INTEGER, \n",
      "\tproduct TEXT, \n",
      "\ttext TEXT NOT NULL, \n",
      "\tPRIMARY KEY (id), \n",
      "\tFOREIGN KEY(product) REFERENCES \"Product\" (name)\n",
      ")\n",
      "\n",
      "/*\n",
      "3 rows from ProductApplication table:\n",
      "id\tproduct\ttext\n",
      "1\tXBO DHP for digital cinema projection\tCinema projection\n",
      "2\tXBO HPN for digital cinema projection\tCinema projection\n",
      "3\tXBO 1000 W/HS OFR\tClassic 35 mm film projection\n",
      "*/\u001b[0m\u001b[32;1m\u001b[1;3m\n",
      "Invoking: `sql_db_query` with `SELECT Product.name, Product.temperature, ProductApplication.text AS application FROM Product JOIN ProductApplication ON Product.name = ProductApplication.product ORDER BY Product.temperature DESC LIMIT 1`\n",
      "\n",
      "\n",
      "\u001b[0m\u001b[36;1m\u001b[1;3m[('XBO 1000 W/HS OFR', 6000, 'Classic 35 mm film projection')]\u001b[0m\u001b[32;1m\u001b[1;3mThe product with the highest possible temperature is \"XBO 1000 W/HS OFR\" with a temperature of 6000. Its application is for classic 35 mm film projection.\u001b[0m\n",
      "\n",
      "\u001b[1m> Finished chain.\u001b[0m\n"
     ]
    }
   ],
   "source": [
    "prompt = \"Provide the product with the highest possible temperature and it's applications.\"\n",
    "\n",
    "result = agent_executor.invoke({\"input\": prompt})"
   ]
  }
 ],
 "metadata": {
  "kernelspec": {
   "display_name": "client-iq",
   "language": "python",
   "name": "python3"
  },
  "language_info": {
   "codemirror_mode": {
    "name": "ipython",
    "version": 3
   },
   "file_extension": ".py",
   "mimetype": "text/x-python",
   "name": "python",
   "nbconvert_exporter": "python",
   "pygments_lexer": "ipython3",
   "version": "3.11.5"
  }
 },
 "nbformat": 4,
 "nbformat_minor": 2
}
